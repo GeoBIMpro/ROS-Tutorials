{
 "cells": [
  {
   "cell_type": "markdown",
   "metadata": {},
   "source": [
    "## Understanding ROS Nodes\n",
    "\n",
    "This tutorial introduces ROS graph concepts and discusses the use of `roscore`, `rosnode`, and `rosrun` commandline tools.\n",
    "\n",
    "Source: [ROS Wiki](http://wiki.ros.org/ROS/Tutorials/UnderstandingNodes)"
   ]
  },
  {
   "cell_type": "markdown",
   "metadata": {},
   "source": [
    "### Quick Overview of Graph Concepts\n",
    "* Nodes: A node is an executable that uses ROS to communicate with other nodes.\n",
    "* Messages: ROS data type used when subscribing or publishing to a topic.\n",
    "* Topics: Nodes can publish messages to a topic as well as subscribe to a topic to receive messages.\n",
    "* Master: Name service for ROS (i.e. helps nodes find each other)\n",
    "* rosout: ROS equivalent of stdout/stderr\n",
    "* roscore: Master + rosout + parameter server (parameter server will be introduced later)"
   ]
  },
  {
   "cell_type": "markdown",
   "metadata": {},
   "source": [
    "### roscore\n",
    "\n",
    "`roscore` is the first thing you should run when using ROS."
   ]
  },
  {
   "cell_type": "code",
   "execution_count": 1,
   "metadata": {},
   "outputs": [
    {
     "name": "stdout",
     "output_type": "stream",
     "text": [
      "Starting job # 0 in a separate thread.\n"
     ]
    }
   ],
   "source": [
    "%%bash --bg\n",
    "roscore"
   ]
  },
  {
   "cell_type": "markdown",
   "metadata": {},
   "source": [
    "### Using `rosrun`\n",
    "\n",
    "`rosrun` allows you to use the package name to directly run a node within a package (without having to know the package path)."
   ]
  },
  {
   "cell_type": "code",
   "execution_count": 2,
   "metadata": {},
   "outputs": [
    {
     "name": "stdout",
     "output_type": "stream",
     "text": [
      "Starting job # 2 in a separate thread.\n"
     ]
    }
   ],
   "source": [
    "%%bash --bg\n",
    "xvfb-run rosrun turtlesim turtlesim_node"
   ]
  },
  {
   "cell_type": "markdown",
   "metadata": {},
   "source": [
    "NOTE: The turtle may look different in your turtlesim window. Don't worry about it - there are [many types of turtle](http://wiki.ros.org/Distributions#Current_Distribution_Releases) and yours is a surprise!"
   ]
  },
  {
   "cell_type": "code",
   "execution_count": 3,
   "metadata": {},
   "outputs": [
    {
     "name": "stdout",
     "output_type": "stream",
     "text": [
      "/rosout\n",
      "/turtlesim\n"
     ]
    }
   ],
   "source": [
    "%%bash\n",
    "rosnode list"
   ]
  },
  {
   "cell_type": "code",
   "execution_count": 4,
   "metadata": {},
   "outputs": [],
   "source": [
    "import rospy\n",
    "from turtlesim.msg import Pose\n",
    "import matplotlib.pyplot as plt\n",
    "from IPython import display\n",
    "%matplotlib inline\n",
    "\n",
    "import time\n",
    "\n",
    "prev_pose = None\n",
    "prev_time = None\n",
    "t = []\n",
    "x = []\n",
    "y = []\n",
    "theta = []\n",
    "\n",
    "def callback(msg):\n",
    "    global prev_pose\n",
    "    global prev_time\n",
    "    current_time = time.time()\n",
    "    if not prev_pose or \\\n",
    "        msg.linear_velocity != 0.0 or msg.angular_velocity != 0.0 or \\\n",
    "        prev_pose.linear_velocity != 0.0 or prev_pose.angular_velocity != 0.0:\n",
    "            x.append(msg.x)\n",
    "            y.append(msg.y)\n",
    "            theta.append(msg.theta)\n",
    "            t.append(current_time)\n",
    "            prev_pose = msg\n",
    "            if not prev_time or \\\n",
    "                current_time - prev_time > 0.2 or \\\n",
    "                msg.linear_velocity == 0.0 and msg.angular_velocity == 0.0:\n",
    "                    prev_time = current_time\n",
    "                    #plt.clf()\n",
    "                    plt.figure(num=1,figsize=(5,5),dpi=100,facecolor='#4556ff',clear=True)\n",
    "                    plt.axis('square')\n",
    "                    plt.axis([0,10,0,10])\n",
    "                    plt.axis('off')\n",
    "                    plt.plot(x,y,'.',color='#b3b8ff')\n",
    "                    display.display(plt.gcf())\n",
    "                    display.clear_output(wait=True)"
   ]
  },
  {
   "cell_type": "code",
   "execution_count": 5,
   "metadata": {},
   "outputs": [],
   "source": [
    "rospy.init_node('turtlesim_display', anonymous=True)"
   ]
  },
  {
   "cell_type": "code",
   "execution_count": null,
   "metadata": {},
   "outputs": [
    {
     "data": {
      "image/png": "[encoded data removed]",
      "text/plain": [
       "<Figure size 500x500 with 1 Axes>"
      ]
     },
     "metadata": {},
     "output_type": "display_data"
    }
   ],
   "source": [
    "rospy.Subscriber('/turtle1/pose', Pose, callback)\n",
    "rospy.spin()"
   ]
  },
  {
   "cell_type": "markdown",
   "metadata": {},
   "source": [
    "### Review\n",
    "What was covered:\n",
    "\n",
    "* roscore = ros+core : master (provides name service for ROS) + rosout (stdout/stderr) + parameter server (parameter server will be introduced later)\n",
    "* rosnode = ros+node : ROS tool to get information about a node.\n",
    "* rosrun = ros+run : runs a node from a given package.\n",
    "\n",
    "Now that you understand how ROS nodes work, let's look at how [ROS topics](ROS%20Topics.ipynb) work."
   ]
  },
  {
   "cell_type": "code",
   "execution_count": null,
   "metadata": {},
   "outputs": [],
   "source": []
  }
 ],
 "metadata": {
  "kernelspec": {
   "display_name": "Python 2",
   "language": "python",
   "name": "python2"
  },
  "language_info": {
   "codemirror_mode": {
    "name": "ipython",
    "version": 2
   },
   "file_extension": ".py",
   "mimetype": "text/x-python",
   "name": "python",
   "nbconvert_exporter": "python",
   "pygments_lexer": "ipython2",
   "version": "2.7.12"
  }
 },
 "nbformat": 4,
 "nbformat_minor": 1
}
